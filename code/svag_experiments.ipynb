{
 "cells": [
  {
   "cell_type": "markdown",
   "metadata": {},
   "source": [
    "# Stochastic amplified variance gradient experiments\n",
    "\n",
    "Minimize the function $$f_{\\gamma}(x) = \\frac{1}{2} (x-\\gamma)^T H (x-\\gamma) - \\frac{1}{2} Tr(H)$$, where $\\gamma \\sim \\mathcal{N}(0,I)$.\n",
    "The gradient is given by $$\\nabla f_{\\gamma}(x) = H(x - \\gamma).$$ The stochastic gradient descent iterates are given by $$x_{k+1} = x_k - \\eta H(x_k - \\gamma).$$\n"
   ]
  },
  {
   "cell_type": "code",
   "execution_count": 1,
   "metadata": {},
   "outputs": [
    {
     "name": "stderr",
     "output_type": "stream",
     "text": [
      "/home/jonathan/uni/thesis/code/venv/lib/python3.10/site-packages/tqdm/auto.py:22: TqdmWarning: IProgress not found. Please update jupyter and ipywidgets. See https://ipywidgets.readthedocs.io/en/stable/user_install.html\n",
      "  from .autonotebook import tqdm as notebook_tqdm\n"
     ]
    }
   ],
   "source": [
    "import jax.numpy as jnp\n",
    "import jax.scipy.linalg as linalg\n",
    "from jax import random\n",
    "from noisy_gradient_descent import *\n",
    "from gradient_descent import gradient_descent_update\n",
    "from network import *\n",
    "from stochastic_variance_amplified_gradient import *\n",
    "from tqdm.auto import tqdm\n",
    "import ml_collections\n",
    "\n",
    "\n",
    "jax.config.update('jax_platform_name', 'cpu')\n"
   ]
  },
  {
   "cell_type": "code",
   "execution_count": 2,
   "metadata": {},
   "outputs": [],
   "source": [
    "config = ml_collections.ConfigDict()"
   ]
  },
  {
   "cell_type": "code",
   "execution_count": 3,
   "metadata": {},
   "outputs": [],
   "source": [
    "config.seed = 4\n",
    "config.dimension = 3\n",
    "config.initial_value_noise_scaling = 5.0\n",
    "config.final_time = 2.0\n",
    "\n",
    "key = random.PRNGKey(config.seed)\n",
    "H = jnp.identity(config.dimension)\n",
    "key, subkey = random.split(key)\n",
    "x_0 = config.initial_value_noise_scaling * random.normal(subkey,\n",
    "                                                  (config.dimension,))\n"
   ]
  },
  {
   "cell_type": "code",
   "execution_count": 4,
   "metadata": {},
   "outputs": [],
   "source": [
    "def sampled_loss(x, standard_normal_noise, H):\n",
    "    return 0.5 * (x - standard_normal_noise).T @ H @ (x - standard_normal_noise) - 0.5 * jnp.trace(H)\n",
    "\n",
    "@jit\n",
    "@partial(jax.vmap, in_axes=(0, None, None, None))\n",
    "def expected_first_order_loss(time, initial_value, H, learning_rate):\n",
    "    decay_term = 0.5 * initial_value.T @ H @ linalg.expm(\n",
    "        -2.0 * time * H) @ initial_value\n",
    "    # Eigenvalue in ascending order\n",
    "    eigenvalues, _ = linalg.eigh(H)\n",
    "    noise_term = 0.25 * learning_rate * jnp.sum(\n",
    "        jnp.square(eigenvalues) * (1 - jnp.exp(-2.0 * time * eigenvalues)))\n",
    "    return decay_term + noise_term\n",
    "\n",
    "\n",
    "@jit\n",
    "@partial(jax.vmap, in_axes=(0, None, None, None))\n",
    "def expected_second_order_loss(time, initial_value, H, learning_rate):\n",
    "    decay_term = 0.5 * initial_value.T @ H @ linalg.expm(\n",
    "        -(2 * H + learning_rate * H @ H) * time) @ initial_value\n",
    "    eigenvalues, _ = linalg.eigh(H)\n",
    "    noise_term = 0.5 * learning_rate * jnp.sum(\n",
    "        jnp.square(eigenvalues) / (2 + learning_rate * eigenvalues) *\n",
    "        (1 - jnp.exp(-eigenvalues *\n",
    "                     (learning_rate * eigenvalues + 2.0) * time)))\n",
    "    return decay_term + noise_term\n"
   ]
  },
  {
   "cell_type": "markdown",
   "metadata": {},
   "source": [
    "# Average sampled loss with SGD\n"
   ]
  },
  {
   "cell_type": "markdown",
   "metadata": {},
   "source": [
    "# Recreating weak order 1 plot\n"
   ]
  },
  {
   "cell_type": "code",
   "execution_count": 5,
   "metadata": {},
   "outputs": [
    {
     "name": "stderr",
     "output_type": "stream",
     "text": [
      "100%|██████████| 2/2 [00:00<00:00,  3.52it/s]\n",
      "100%|██████████| 4/4 [00:00<00:00, 11.06it/s]\n",
      "100%|██████████| 8/8 [00:00<00:00, 11.35it/s]\n",
      "100%|██████████| 16/16 [00:01<00:00, 11.51it/s]\n",
      "100%|██████████| 32/32 [00:02<00:00, 11.98it/s]\n",
      "100%|██████████| 64/64 [00:05<00:00, 12.10it/s]\n",
      "100%|██████████| 128/128 [00:10<00:00, 12.24it/s]\n",
      "100%|██████████| 256/256 [00:20<00:00, 12.20it/s]\n",
      "100%|██████████| 512/512 [00:42<00:00, 12.05it/s]\n"
     ]
    }
   ],
   "source": [
    "@jit\n",
    "@partial(jax.vmap, in_axes=(0, None, 0, None))\n",
    "def stochastic_gradient_update(x, H, gamma, learning_rate):\n",
    "    gradient = jax.grad(sampled_loss)(x, gamma, H)\n",
    "    updated_x = x - learning_rate * gradient\n",
    "    value = 0.5 * updated_x.T @ H @ updated_x\n",
    "    return value, updated_x\n",
    "\n",
    "config.number_of_samples = 1000000\n",
    "config.learning_rates = 2.0**jnp.arange(0, -9, -1)\n",
    "sampled_values = [[] for i in range(len(config.learning_rates))]\n",
    "for index, learning_rate in enumerate(config.learning_rates):\n",
    "    max_iterations = int(config.final_time / learning_rate)\n",
    "    x = jnp.tile(x_0, (config.number_of_samples,1))\n",
    "    for _ in tqdm(range(max_iterations)):\n",
    "        key, subkey = random.split(key)\n",
    "        normal_noise = random.normal(subkey, (config.number_of_samples, config.dimension))\n",
    "        value, x = stochastic_gradient_update(x, H, normal_noise,\n",
    "                                              learning_rate)\n",
    "        sampled_values[index].append(jnp.average(value))"
   ]
  },
  {
   "cell_type": "code",
   "execution_count": 6,
   "metadata": {},
   "outputs": [],
   "source": [
    "first_order_error = []\n",
    "second_order_error = []\n",
    "for learning_rate, sampled_value in zip(config.learning_rates, sampled_values):\n",
    "    time = jnp.arange(0.0, config.final_time, learning_rate) + learning_rate\n",
    "    expected_first_order_loss_value = expected_first_order_loss(\n",
    "        time, x_0, H, learning_rate)\n",
    "    expected_second_order_loss_value = expected_second_order_loss(\n",
    "        time, x_0, H, learning_rate)\n",
    "    first_order_error.append(jnp.max(jnp.abs(jnp.array(sampled_value) - expected_first_order_loss_value)))\n",
    "    second_order_error.append(\n",
    "        jnp.max(jnp.abs(jnp.array(sampled_value) - expected_second_order_loss_value)))\n",
    "\n"
   ]
  },
  {
   "cell_type": "code",
   "execution_count": 7,
   "metadata": {},
   "outputs": [
    {
     "data": {
      "text/plain": [
       "<matplotlib.legend.Legend at 0x7f3b5460ff70>"
      ]
     },
     "execution_count": 7,
     "metadata": {},
     "output_type": "execute_result"
    },
    {
     "data": {
      "image/png": "[encoded data removed]",
      "text/plain": [
       "<Figure size 640x480 with 1 Axes>"
      ]
     },
     "metadata": {},
     "output_type": "display_data"
    }
   ],
   "source": [
    "for i, learning_rate in enumerate(config.learning_rates):\n",
    "    if i == 3:\n",
    "        values = jnp.array([0.5 * x_0.T @ H @ x_0] + sampled_values[i])\n",
    "        plt.plot(values, label = \"SGD\")\n",
    "        time = jnp.arange(0.0, config.final_time + learning_rate,\n",
    "                          learning_rate)\n",
    "        expected_first_order_loss_value = expected_first_order_loss(\n",
    "            time, x_0, H, learning_rate)\n",
    "        plt.plot(expected_first_order_loss_value, label = 'expected')\n",
    "plt.legend()\n",
    "# plt.savefig('/home/jonathan/forest/images/sgd_weird_behavior.png')"
   ]
  },
  {
   "cell_type": "code",
   "execution_count": 8,
   "metadata": {},
   "outputs": [
    {
     "ename": "TypeError",
     "evalue": "object of type 'float' has no len()",
     "output_type": "error",
     "traceback": [
      "\u001b[0;31m---------------------------------------------------------------------------\u001b[0m",
      "\u001b[0;31mTypeError\u001b[0m                                 Traceback (most recent call last)",
      "\u001b[1;32m/home/jonathan/uni/thesis/code/svag_experiments.ipynb Cell 11\u001b[0m in \u001b[0;36m<cell line: 1>\u001b[0;34m()\u001b[0m\n\u001b[1;32m      <a href='vscode-notebook-cell:/home/jonathan/uni/thesis/code/svag_experiments.ipynb#ch0000010?line=0'>1</a>\u001b[0m A \u001b[39m=\u001b[39m jnp\u001b[39m.\u001b[39mcolumn_stack(\n\u001b[0;32m----> <a href='vscode-notebook-cell:/home/jonathan/uni/thesis/code/svag_experiments.ipynb#ch0000010?line=1'>2</a>\u001b[0m     (jnp\u001b[39m.\u001b[39mlog(jnp\u001b[39m.\u001b[39marray(config\u001b[39m.\u001b[39mfinal_time)), jnp\u001b[39m.\u001b[39mones((\u001b[39mlen\u001b[39;49m(config\u001b[39m.\u001b[39;49mfinal_time), ))))\n\u001b[1;32m      <a href='vscode-notebook-cell:/home/jonathan/uni/thesis/code/svag_experiments.ipynb#ch0000010?line=2'>3</a>\u001b[0m log_first_order_error \u001b[39m=\u001b[39m jnp\u001b[39m.\u001b[39mlog(jnp\u001b[39m.\u001b[39marray(first_order_error))\n\u001b[1;32m      <a href='vscode-notebook-cell:/home/jonathan/uni/thesis/code/svag_experiments.ipynb#ch0000010?line=3'>4</a>\u001b[0m log_second_order_error \u001b[39m=\u001b[39m jnp\u001b[39m.\u001b[39mlog(jnp\u001b[39m.\u001b[39marray(second_order_error))\n",
      "\u001b[0;31mTypeError\u001b[0m: object of type 'float' has no len()"
     ]
    }
   ],
   "source": [
    "A = jnp.column_stack(\n",
    "    (jnp.log(jnp.array(config.final_time)), jnp.ones((len(config.final_time), ))))\n",
    "log_first_order_error = jnp.log(jnp.array(first_order_error))\n",
    "log_second_order_error = jnp.log(jnp.array(second_order_error))\n",
    "first_order_slope, _, _, _ = jnp.linalg.lstsq(A, log_first_order_error)\n",
    "second_order_slope, _, _, _ = jnp.linalg.lstsq(A, log_second_order_error)\n",
    "print(first_order_slope)\n",
    "print(second_order_slope)"
   ]
  },
  {
   "cell_type": "code",
   "execution_count": null,
   "metadata": {},
   "outputs": [],
   "source": [
    "for learning_rate, error in zip(config.learning_rates, first_order_error):\n",
    "    plt.plot(learning_rate,\n",
    "             error,\n",
    "             'b*')\n",
    "for learning_rate, error in zip(config.learning_rates, second_order_error):\n",
    "    plt.plot(learning_rate,\n",
    "             error,\n",
    "             'r*')\n",
    "t = jnp.linspace(config.learning_rates[-1], config.learning_rates[0], 1000)\n",
    "y = jnp.exp(first_order_slope[1]) * t**first_order_slope[0]\n",
    "plt.plot(t, y, '-', label='first order')\n",
    "y = jnp.exp(second_order_slope[1]) * t**second_order_slope[0]\n",
    "plt.plot(t, y, '-', label='second order')\n",
    "plt.gca().invert_xaxis()\n",
    "plt.yscale('log')\n",
    "plt.xscale('log')\n",
    "plt.legend()\n",
    "plt.savefig('/home/jonathan/forest/images/weak_order_2_SGD_fixed.png')"
   ]
  },
  {
   "cell_type": "code",
   "execution_count": null,
   "metadata": {},
   "outputs": [],
   "source": [
    "def objective(x, gamma, Q, D):\n",
    "    return 0.5 * (Q.T @ x).T @ (D + jnp.diag(gamma)) @ (Q.T @ x)"
   ]
  },
  {
   "cell_type": "code",
   "execution_count": null,
   "metadata": {},
   "outputs": [],
   "source": [
    "@partial(jax.vmap, in_axes = (0, None, None, None))\n",
    "def expected_objective(time, initial_value, learning_rate, H):\n",
    "    return 0.5 * jnp.exp(learning_rate * time) * initial_value.T @ H @ linalg.expm(-2 * H * time) @ initial_value"
   ]
  },
  {
   "cell_type": "code",
   "execution_count": null,
   "metadata": {},
   "outputs": [],
   "source": [
    "@jit\n",
    "@partial(jax.vmap, in_axes=(0, 0, None, None, None))\n",
    "def stochastic_gradient_update(x, gamma, Q, D, learning_rate):\n",
    "    gradient = jax.grad(objective)(x, gamma, Q, D)\n",
    "    updated_x = x - learning_rate * gradient\n",
    "    value = 0.5 * updated_x.T @ Q @ D @ Q.T @ x\n",
    "    return value, updated_x\n",
    "\n",
    "config.number_of_samples = 10000000\n",
    "config.learning_rates = 2.0**jnp.arange(-2, -8, -1)\n",
    "sampled_values = [[] for i in range(len(config.learning_rates))]\n",
    "for index, learning_rate in enumerate(config.learning_rates):\n",
    "    max_iterations = int(config.final_time / learning_rate)\n",
    "    x = jnp.tile(x_0, (config.number_of_samples, 1))\n",
    "    for _ in tqdm(range(max_iterations)):\n",
    "        key, subkey = random.split(key)\n",
    "        normal_noise = random.normal(subkey, (config.number_of_samples, config.dimension))\n",
    "        value, x = stochastic_gradient_update(x, normal_noise, H, H,\n",
    "                                              learning_rate)\n",
    "        sampled_values[index].append(jnp.average(value))"
   ]
  },
  {
   "cell_type": "code",
   "execution_count": null,
   "metadata": {},
   "outputs": [],
   "source": [
    "first_order_error = []\n",
    "for learning_rate, sampled_value in zip(config.learning_rates, sampled_values):\n",
    "    time = jnp.arange(0.0, config.final_time, learning_rate) + learning_rate\n",
    "    expected_first_order_loss_value = expected_objective(\n",
    "        time, x_0, learning_rate, H)\n",
    "    first_order_error.append(\n",
    "        jnp.max(\n",
    "            jnp.abs(\n",
    "                jnp.array(sampled_value) - expected_first_order_loss_value)))\n",
    "A = jnp.column_stack(\n",
    "    (jnp.log(jnp.array(config.learning_rates)), jnp.ones((len(config.learning_rates), ))))\n",
    "log_first_order_error = jnp.log(jnp.array(first_order_error))\n",
    "first_order_slope, _, _, _ = jnp.linalg.lstsq(A, log_first_order_error)\n",
    "print(first_order_slope)\n"
   ]
  },
  {
   "cell_type": "code",
   "execution_count": null,
   "metadata": {},
   "outputs": [],
   "source": [
    "for learning_rate, error in zip(config.learning_rates, first_order_error):\n",
    "    plt.plot(learning_rate, error, 'b*')\n",
    "t = jnp.linspace(config.learning_rates[-1], config.learning_rates[0], 1000)\n",
    "y = jnp.exp(first_order_slope[1]) * t**first_order_slope[0]\n",
    "plt.plot(t, y, '-', label='first order')\n",
    "plt.gca().invert_xaxis()\n",
    "plt.yscale('log')\n",
    "plt.xscale('log')\n",
    "plt.legend()"
   ]
  }
 ],
 "metadata": {
  "kernelspec": {
   "display_name": "Python 3.10.5 ('venv': venv)",
   "language": "python",
   "name": "python3"
  },
  "language_info": {
   "codemirror_mode": {
    "name": "ipython",
    "version": 3
   },
   "file_extension": ".py",
   "mimetype": "text/x-python",
   "name": "python",
   "nbconvert_exporter": "python",
   "pygments_lexer": "ipython3",
   "version": "3.10.5"
  },
  "orig_nbformat": 4,
  "vscode": {
   "interpreter": {
    "hash": "4a99f663a0081fc4d79982a9a3f8601320443115eaf3f50fe3abd32f90a3be28"
   }
  }
 },
 "nbformat": 4,
 "nbformat_minor": 2
}
